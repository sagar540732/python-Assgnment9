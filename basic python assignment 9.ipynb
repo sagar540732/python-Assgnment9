{
 "cells": [
  {
   "cell_type": "markdown",
   "metadata": {},
   "source": [
    "1. To what does a relative path refer?\n",
    "ans: relative path method in python is used to get file path to the current working director or from the give directory. \n",
    "\n",
    "2. What does an absolute path start with your operating system?\n",
    "ans: An absolute path is also known as full path. it starting from the root element and ending with the other subdirectories. basically, absolute path start from any drive \n",
    "\n",
    "    \n",
    "3. What do the functions os.getcwd() and os.chdir() do?\n",
    "\n",
    "ans: os.getcwd() == it return the current working directory of a process.\n",
    "     os.chdir()== it return the change directory of a process.\n",
    "\n",
    "\n",
    "5. In C:\\bacon\\eggs\\spam.txt, which part is the dir name, and which part is the base name?\n",
    "ans: c: C:\\bacon\\eggs is the dir name, while spam. txt is the base name\n",
    "            \n",
    "6. What are the three “mode” arguments that can be passed to the open() function?\n",
    "Ans: \n",
    "r : Opens the file in read-only mode. ...\n",
    "rb : Opens the file as read-only in binary format and starts reading from the beginning of the file. ...\n",
    "r+ : Opens a file for reading and writing, placing the pointer at the beginning of the file.\n",
    "\n",
    "\n",
    "7. What happens if an existing file is opened in write mode?\n",
    "ans : if an existing file is opened in write mode it creates an empty file for output operations \n",
    "\n",
    "8. How do you tell the difference between read() and readlines()?\n",
    "Ans: The . read() would treat each character in the file separately, meaning that the iteration would happen for every character. The readline() function, on the other hand, only reads a single line of the file\n",
    "\n",
    "9. What data structure does a shelf value resemble?\n",
    "Ans: A shelf value resembles a dictionary value; it has keys and values, along with keys() and values() methods that work similarly to the dictionary methods of the same names.\n"
   ]
  },
  {
   "cell_type": "code",
   "execution_count": null,
   "metadata": {},
   "outputs": [],
   "source": []
  },
  {
   "cell_type": "code",
   "execution_count": null,
   "metadata": {},
   "outputs": [],
   "source": []
  }
 ],
 "metadata": {
  "kernelspec": {
   "display_name": "Python 3",
   "language": "python",
   "name": "python3"
  },
  "language_info": {
   "codemirror_mode": {
    "name": "ipython",
    "version": 3
   },
   "file_extension": ".py",
   "mimetype": "text/x-python",
   "name": "python",
   "nbconvert_exporter": "python",
   "pygments_lexer": "ipython3",
   "version": "3.8.5"
  }
 },
 "nbformat": 4,
 "nbformat_minor": 4
}
